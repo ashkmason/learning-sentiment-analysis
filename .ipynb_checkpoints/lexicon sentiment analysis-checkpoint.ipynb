{
 "cells": [
  {
   "cell_type": "code",
   "execution_count": 44,
   "metadata": {},
   "outputs": [
    {
     "name": "stdout",
     "output_type": "stream",
     "text": [
      "The text is positive with a sentiment polarity of 0.2024748060772906\n",
      "The text is slightly subjective with a subjectivity score of 0.4518248900857597\n",
      "0.2024748060772906\n",
      "0.4518248900857597\n"
     ]
    }
   ],
   "source": [
    "from textblob import TextBlob\n",
    "\n",
    "# import text string\n",
    "text_string = open('datasets/titanic_review.txt', 'r').read()\n",
    "\n",
    "# create textblob object from string\n",
    "textblob = TextBlob(text_string)\n",
    "\n",
    "# run sentiment on text_string\n",
    "sentiment = textblob.sentiment\n",
    "\n",
    "# extract polarity using a 3 point scoring system for positive, neutral, and negative\n",
    "# a score from 0.2 to 1 is considered positive\n",
    "# a score between -0.2 to 0.2 is considered neutral\n",
    "# a score less than -0.2 is considered negative\n",
    "\n",
    "if sentiment.polarity >= 0.2:\n",
    "    print(\"The text is positive with a sentiment polarity of\", sentiment.polarity)\n",
    "elif sentiment.polarity <= -0.2:\n",
    "    print(\"The text is negative with a sentiment polarity of\", sentiment.polarity)\n",
    "else:\n",
    "    print(\"The text is neutral with a sentiment polarity of\", sentiment.polarity)\n",
    "    \n",
    "# extract subjectivity for a 2 point scoring system be subjective or only slightly subjective\n",
    "# a score greater than 0.5 is being considered subjective\n",
    "# a score from 0.2 to 0.2 is considered slightly subjective\n",
    "# a score less than 0.2 is considered to be objective\n",
    "# note: getting a objective score is hard to achieve and therefore difficult to test\n",
    "\n",
    "if sentiment.subjectivity >= 0.5:\n",
    "    print(\"The text is subjective with a subjectivity score of\", sentiment.subjectivity)\n",
    "elif sentiment.subjectivity <= 0.2:\n",
    "    print(\"The text is considered to be objective with a subjectivity score of\", sentiment.subjectivity)\n",
    "else:\n",
    "    print(\"The text is slightly subjective with a subjectivity score of\", sentiment.subjectivity)\n",
    "\n",
    "# print raw sentiment number for front end use\n",
    "print(sentiment.polarity)\n",
    "\n",
    "# print raw subjectivity number for front end use\n",
    "print(sentiment.subjectivity)\n"
   ]
  },
  {
   "cell_type": "code",
   "execution_count": null,
   "metadata": {},
   "outputs": [],
   "source": []
  }
 ],
 "metadata": {
  "kernelspec": {
   "display_name": "Python 3",
   "language": "python",
   "name": "python3"
  },
  "language_info": {
   "codemirror_mode": {
    "name": "ipython",
    "version": 3
   },
   "file_extension": ".py",
   "mimetype": "text/x-python",
   "name": "python",
   "nbconvert_exporter": "python",
   "pygments_lexer": "ipython3",
   "version": "3.7.7"
  }
 },
 "nbformat": 4,
 "nbformat_minor": 4
}
